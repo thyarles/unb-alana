{
 "cells": [
  {
   "cell_type": "code",
   "execution_count": 1,
   "id": "c225b493",
   "metadata": {},
   "outputs": [],
   "source": [
    "# Instala dependências\n",
    "! pip install -qr requirements.txt\n",
    "\n",
    "# Carrega bibliotecas\n",
    "from langchain_qdrant import Qdrant\n",
    "from langchain_community.embeddings import HuggingFaceBgeEmbeddings\n",
    "from langchain.text_splitter import RecursiveCharacterTextSplitter\n",
    "from langchain_community.document_loaders import DataFrameLoader\n",
    "from qdrant_client import QdrantClient\n",
    "import pandas as pd\n",
    "\n",
    "# Ajuste cosmético do Pandas\n",
    "pd.set_option('display.width', 1000)\n",
    "\n",
    "# Carrega modelo para gerar embeddings\n",
    "model_name='BAAI/bge-m3'\n",
    "model_kwargs = {'device': 'cuda'}\n",
    "encode_kwargs = {'normalize_embeddings': True}\n",
    "embeddings = HuggingFaceBgeEmbeddings(\n",
    "    model_name=model_name,\n",
    "    model_kwargs=model_kwargs,\n",
    "    encode_kwargs=encode_kwargs\n",
    ")\n",
    "\n",
    "# Qdrant\n",
    "# docker run -p 6333:6333 -p 6334:6334 qdrant/qdrant\n",
    "url = 'http://localhost:6334'\n",
    "client = QdrantClient(url=url)"
   ]
  },
  {
   "cell_type": "code",
   "execution_count": 2,
   "id": "6e32eada",
   "metadata": {},
   "outputs": [
    {
     "name": "stdout",
     "output_type": "stream",
     "text": [
      "Shape: (38595, 8)\n",
      "  postId postTypeId                                              title                                               body tagName creationDate score viewCount\n",
      "0     25          1         How to use the C socket API in C++ on z/OS  I'm having issues getting the C sockets API to...     c++     20080801   176     16412\n",
      "1    264          1                             BerkeleyDB Concurrency   What's the optimal level of concurrency that ...     c++     20080801    38      2899\n",
      "2    330          1          Should I use nested classes in this case?  I am working on a collection of classes used f...     c++     20080802    58      5019\n",
      "3    601          1                    Robust Random Number Generation  I'm looking for a performant, reasonably robus...     c++     20080803    42      2145\n",
      "4    609          1  Build for Windows NT 4.0 using Visual Studio 2...  An MFC application that I'm trying to migrate ...     c++     20080803    21      4505\n"
     ]
    },
    {
     "name": "stderr",
     "output_type": "stream",
     "text": [
      "/home/charles/unb-alana/venv/lib/python3.10/site-packages/qdrant_client/qdrant_remote.py:130: UserWarning: Api key is used with an insecure connection.\n",
      "  warnings.warn(\"Api key is used with an insecure connection.\")\n",
      "/home/charles/unb-alana/venv/lib/python3.10/site-packages/qdrant_client/async_qdrant_remote.py:117: UserWarning: Api key is used with an insecure connection.\n",
      "  warnings.warn(\"Api key is used with an insecure connection.\")\n"
     ]
    },
    {
     "name": "stdout",
     "output_type": "stream",
     "text": [
      "Coleção cpp carregada com sucesso no Qdrant!\n"
     ]
    }
   ],
   "source": [
    "# Carrega CPP\n",
    "collection = 'cpp'\n",
    "json_path  = f'./dfs/data_{collection}.json'\n",
    "\n",
    "df = pd.read_json(json_path)      # Read JSON\n",
    "df = df.fillna('')                # Fill empty fields\n",
    "df = df.astype(str)               # Only string allowed\n",
    "print(\"Shape:\", df.shape)         # Shape of the df\n",
    "print(df.head())                  # Show first four\n",
    "\n",
    "# Converte JSON para Langchain\n",
    "loader = DataFrameLoader(df, 'body')\n",
    "documents = loader.load()\n",
    "text_splitter = RecursiveCharacterTextSplitter(chunk_size=550, chunk_overlap=55)\n",
    "texts = text_splitter.split_documents(documents)\n",
    "\n",
    "# Insere dados no Qdrant\n",
    "Qdrant.from_documents(texts, embeddings, url=url, prefer_grpc=True, collection_name=collection, force_recreate=False)\n",
    "print(f'Coleção {collection} carregada com sucesso no Qdrant!')"
   ]
  },
  {
   "cell_type": "code",
   "execution_count": 3,
   "id": "15121bba",
   "metadata": {},
   "outputs": [
    {
     "name": "stdout",
     "output_type": "stream",
     "text": [
      "Shape: (66526, 8)\n",
      "  postId postTypeId                                              title                                               body tagName creationDate score viewCount\n",
      "0    123          1        Java lib or app to convert CSV to XML file?  Is there an existing application or library in...    java     20080801   121     81172\n",
      "1    126          1  How would you access Object properties from wi...  What is the \"purist\" or \"correct\" way to acces...    java     20080801   106     26730\n",
      "2    382          1  What is the meaning of the type safety warning...  What is the meaning of the Java warning?     T...    java     20080802    81     10291\n",
      "3    564          1  What is the difference between an int and an I...  I was reading More Joel on Software when I cam...    java     20080802   271    249050\n",
      "4   2092          1   How to get started writing a code coverage tool?  Looking for books or other references that dis...    java     20080805    30      3647\n"
     ]
    },
    {
     "name": "stderr",
     "output_type": "stream",
     "text": [
      "/home/charles/unb-alana/venv/lib/python3.10/site-packages/qdrant_client/qdrant_remote.py:130: UserWarning: Api key is used with an insecure connection.\n",
      "  warnings.warn(\"Api key is used with an insecure connection.\")\n",
      "/home/charles/unb-alana/venv/lib/python3.10/site-packages/qdrant_client/async_qdrant_remote.py:117: UserWarning: Api key is used with an insecure connection.\n",
      "  warnings.warn(\"Api key is used with an insecure connection.\")\n"
     ]
    },
    {
     "name": "stdout",
     "output_type": "stream",
     "text": [
      "Coleção java carregada com sucesso no Qdrant!\n"
     ]
    }
   ],
   "source": [
    "# Carrega Java\n",
    "collection = 'java'\n",
    "json_path  = f'./dfs/data_{collection}.json'\n",
    "\n",
    "df = pd.read_json(json_path)      # Read JSON\n",
    "df = df.fillna('')                # Fill empty fields\n",
    "df = df.astype(str)               # Only string allowed\n",
    "print(\"Shape:\", df.shape)         # Shape of the df\n",
    "print(df.head())                  # Show first four\n",
    "\n",
    "# Converte JSON para Langchain\n",
    "loader = DataFrameLoader(df, 'body')\n",
    "documents = loader.load()\n",
    "text_splitter = RecursiveCharacterTextSplitter(chunk_size=550, chunk_overlap=55)\n",
    "texts = text_splitter.split_documents(documents)\n",
    "\n",
    "# Insere dados no Qdrant\n",
    "Qdrant.from_documents(texts, embeddings, url=url, prefer_grpc=True, collection_name=collection, force_recreate=False)\n",
    "print(f'Coleção {collection} carregada com sucesso no Qdrant!')"
   ]
  },
  {
   "cell_type": "code",
   "execution_count": 4,
   "id": "c0b642e1",
   "metadata": {},
   "outputs": [
    {
     "name": "stdout",
     "output_type": "stream",
     "text": [
      "Shape: (64935, 8)\n",
      "  postId postTypeId                                              title                                               body     tagName creationDate score viewCount\n",
      "0    845          1  How to detect which one of the defined font wa...  Suppose I have the following CSS rule in my pa...  javascript     20080803   157     55224\n",
      "1   1401          1              ASP.Net Custom Client-Side Validation  I have a custom validation function in JavaScr...  javascript     20080804    38      3694\n",
      "2   1873          1  Triple Quotes? How do I delimit a databound Ja...  How do I delimit a Javascript data-bound strin...  javascript     20080805    47     23470\n",
      "3   2914          1  How can I detect if a browser is blocking a po...  Occasionally, I've come across a webpage that ...  javascript     20080805   165    143178\n",
      "4   3224          1  How can I make the browser see CSS and Javascr...  CSS and Javascript files don't change very oft...  javascript     20080806    64      7885\n"
     ]
    },
    {
     "name": "stderr",
     "output_type": "stream",
     "text": [
      "/home/charles/unb-alana/venv/lib/python3.10/site-packages/qdrant_client/qdrant_remote.py:130: UserWarning: Api key is used with an insecure connection.\n",
      "  warnings.warn(\"Api key is used with an insecure connection.\")\n",
      "/home/charles/unb-alana/venv/lib/python3.10/site-packages/qdrant_client/async_qdrant_remote.py:117: UserWarning: Api key is used with an insecure connection.\n",
      "  warnings.warn(\"Api key is used with an insecure connection.\")\n"
     ]
    },
    {
     "name": "stdout",
     "output_type": "stream",
     "text": [
      "Coleção javascript carregada com sucesso no Qdrant!\n"
     ]
    }
   ],
   "source": [
    "# Carrega JavaScript\n",
    "collection = 'javascript'\n",
    "json_path  = f'./dfs/data_{collection}.json'\n",
    "\n",
    "df = pd.read_json(json_path)      # Read JSON\n",
    "df = df.fillna('')                # Fill empty fields\n",
    "df = df.astype(str)               # Only string allowed\n",
    "print(\"Shape:\", df.shape)         # Shape of the df\n",
    "print(df.head())                  # Show first four\n",
    "\n",
    "# Converte JSON para Langchain\n",
    "loader = DataFrameLoader(df, 'body')\n",
    "documents = loader.load()\n",
    "text_splitter = RecursiveCharacterTextSplitter(chunk_size=550, chunk_overlap=55)\n",
    "texts = text_splitter.split_documents(documents)\n",
    "\n",
    "# Insere dados no Qdrant\n",
    "Qdrant.from_documents(texts, embeddings, url=url, prefer_grpc=True, collection_name=collection, force_recreate=False)\n",
    "print(f'Coleção {collection} carregada com sucesso no Qdrant!')"
   ]
  },
  {
   "cell_type": "code",
   "execution_count": 5,
   "id": "576bc562",
   "metadata": {},
   "outputs": [
    {
     "name": "stdout",
     "output_type": "stream",
     "text": [
      "Shape: (9696, 8)\n",
      "  postId postTypeId                                              title                                               body     tagName creationDate score viewCount\n",
      "0   8692          1                        How to use XPath in Python?  What are the libraries that support XPath? Is ...  python-2.x     20080812   258    382119\n",
      "1  34611          1     Toolkit Options for 2D Python Game Programming  What are some toolkits for developing 2D games...  python-3.x     20080829    13      6154\n",
      "2  36932          1           How can I represent an 'Enum' in Python?  I'm mainly a C# developer, but I'm currently w...  python-3.x     20080831  1141   1285129\n",
      "3  91205          1  Will everything in the standard library treat ...  I'm a little confused about how the standard l...  python-3.x     20080918    12       489\n",
      "4  94935          1  What is the difference between range and xrang...  Apparently xrange is faster but I have no idea...  python-2.x     20080918   848    491148\n"
     ]
    },
    {
     "name": "stderr",
     "output_type": "stream",
     "text": [
      "/home/charles/unb-alana/venv/lib/python3.10/site-packages/qdrant_client/qdrant_remote.py:130: UserWarning: Api key is used with an insecure connection.\n",
      "  warnings.warn(\"Api key is used with an insecure connection.\")\n",
      "/home/charles/unb-alana/venv/lib/python3.10/site-packages/qdrant_client/async_qdrant_remote.py:117: UserWarning: Api key is used with an insecure connection.\n",
      "  warnings.warn(\"Api key is used with an insecure connection.\")\n"
     ]
    },
    {
     "name": "stdout",
     "output_type": "stream",
     "text": [
      "Coleção python carregada com sucesso no Qdrant!\n"
     ]
    }
   ],
   "source": [
    "# Carrega Python\n",
    "collection = 'python'\n",
    "json_path  = f'./dfs/data_{collection}.json'\n",
    "\n",
    "df = pd.read_json(json_path)      # Read JSON\n",
    "df = df.fillna('')                # Fill empty fields\n",
    "df = df.astype(str)               # Only string allowed\n",
    "print(\"Shape:\", df.shape)         # Shape of the df\n",
    "print(df.head())                  # Show first four\n",
    "\n",
    "# Converte JSON para Langchain\n",
    "loader = DataFrameLoader(df, 'body')\n",
    "documents = loader.load()\n",
    "text_splitter = RecursiveCharacterTextSplitter(chunk_size=550, chunk_overlap=55)\n",
    "texts = text_splitter.split_documents(documents)\n",
    "\n",
    "# Insere dados no Qdrant\n",
    "Qdrant.from_documents(texts, embeddings, url=url, prefer_grpc=True, collection_name=collection, force_recreate=False)\n",
    "print(f'Coleção {collection} carregada com sucesso no Qdrant!')"
   ]
  }
 ],
 "metadata": {
  "kernelspec": {
   "display_name": "venv",
   "language": "python",
   "name": "python3"
  },
  "language_info": {
   "codemirror_mode": {
    "name": "ipython",
    "version": 3
   },
   "file_extension": ".py",
   "mimetype": "text/x-python",
   "name": "python",
   "nbconvert_exporter": "python",
   "pygments_lexer": "ipython3",
   "version": "3.10.12"
  }
 },
 "nbformat": 4,
 "nbformat_minor": 5
}
