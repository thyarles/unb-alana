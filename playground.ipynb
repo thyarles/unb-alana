{
 "cells": [
  {
   "cell_type": "code",
   "execution_count": 1,
   "id": "2dcded0a-1ff2-4f81-a5ef-1a9cf21cbc95",
   "metadata": {},
   "outputs": [],
   "source": [
    "# Bibliotecas\n",
    "from langchain_qdrant import Qdrant\n",
    "from langchain_community.embeddings import HuggingFaceBgeEmbeddings\n",
    "from langchain.text_splitter import RecursiveCharacterTextSplitter\n",
    "from langchain_community.document_loaders import DataFrameLoader\n",
    "from qdrant_client import QdrantClient\n",
    "import pandas as pd"
   ]
  },
  {
   "cell_type": "code",
   "execution_count": 5,
   "id": "15121bba",
   "metadata": {},
   "outputs": [
    {
     "name": "stdout",
     "output_type": "stream",
     "text": [
      "Shape: (2354, 8)\n"
     ]
    },
    {
     "data": {
      "text/html": [
       "<div>\n",
       "<style scoped>\n",
       "    .dataframe tbody tr th:only-of-type {\n",
       "        vertical-align: middle;\n",
       "    }\n",
       "\n",
       "    .dataframe tbody tr th {\n",
       "        vertical-align: top;\n",
       "    }\n",
       "\n",
       "    .dataframe thead th {\n",
       "        text-align: right;\n",
       "    }\n",
       "</style>\n",
       "<table border=\"1\" class=\"dataframe\">\n",
       "  <thead>\n",
       "    <tr style=\"text-align: right;\">\n",
       "      <th></th>\n",
       "      <th>postId</th>\n",
       "      <th>postTypeId</th>\n",
       "      <th>title</th>\n",
       "      <th>body</th>\n",
       "      <th>tagName</th>\n",
       "      <th>creationDate</th>\n",
       "      <th>score</th>\n",
       "      <th>viewCount</th>\n",
       "    </tr>\n",
       "  </thead>\n",
       "  <tbody>\n",
       "    <tr>\n",
       "      <th>0</th>\n",
       "      <td>25</td>\n",
       "      <td>1</td>\n",
       "      <td>How to use the C socket API in C++ on z/OS</td>\n",
       "      <td>I'm having issues getting the C sockets API to...</td>\n",
       "      <td>c++</td>\n",
       "      <td>20080801</td>\n",
       "      <td>176</td>\n",
       "      <td>16412</td>\n",
       "    </tr>\n",
       "    <tr>\n",
       "      <th>1</th>\n",
       "      <td>264</td>\n",
       "      <td>1</td>\n",
       "      <td>BerkeleyDB Concurrency</td>\n",
       "      <td>What's the optimal level of concurrency that ...</td>\n",
       "      <td>c++</td>\n",
       "      <td>20080801</td>\n",
       "      <td>38</td>\n",
       "      <td>2899</td>\n",
       "    </tr>\n",
       "    <tr>\n",
       "      <th>2</th>\n",
       "      <td>330</td>\n",
       "      <td>1</td>\n",
       "      <td>Should I use nested classes in this case?</td>\n",
       "      <td>I am working on a collection of classes used f...</td>\n",
       "      <td>c++</td>\n",
       "      <td>20080802</td>\n",
       "      <td>58</td>\n",
       "      <td>5019</td>\n",
       "    </tr>\n",
       "    <tr>\n",
       "      <th>3</th>\n",
       "      <td>601</td>\n",
       "      <td>1</td>\n",
       "      <td>Robust Random Number Generation</td>\n",
       "      <td>I'm looking for a performant, reasonably robus...</td>\n",
       "      <td>c++</td>\n",
       "      <td>20080803</td>\n",
       "      <td>42</td>\n",
       "      <td>2145</td>\n",
       "    </tr>\n",
       "    <tr>\n",
       "      <th>4</th>\n",
       "      <td>609</td>\n",
       "      <td>1</td>\n",
       "      <td>Build for Windows NT 4.0 using Visual Studio 2...</td>\n",
       "      <td>An MFC application that I'm trying to migrate ...</td>\n",
       "      <td>c++</td>\n",
       "      <td>20080803</td>\n",
       "      <td>21</td>\n",
       "      <td>4505</td>\n",
       "    </tr>\n",
       "  </tbody>\n",
       "</table>\n",
       "</div>"
      ],
      "text/plain": [
       "  postId postTypeId                                              title  \\\n",
       "0     25          1         How to use the C socket API in C++ on z/OS   \n",
       "1    264          1                             BerkeleyDB Concurrency   \n",
       "2    330          1          Should I use nested classes in this case?   \n",
       "3    601          1                    Robust Random Number Generation   \n",
       "4    609          1  Build for Windows NT 4.0 using Visual Studio 2...   \n",
       "\n",
       "                                                body tagName creationDate  \\\n",
       "0  I'm having issues getting the C sockets API to...     c++     20080801   \n",
       "1   What's the optimal level of concurrency that ...     c++     20080801   \n",
       "2  I am working on a collection of classes used f...     c++     20080802   \n",
       "3  I'm looking for a performant, reasonably robus...     c++     20080803   \n",
       "4  An MFC application that I'm trying to migrate ...     c++     20080803   \n",
       "\n",
       "  score viewCount  \n",
       "0   176     16412  \n",
       "1    38      2899  \n",
       "2    58      5019  \n",
       "3    42      2145  \n",
       "4    21      4505  "
      ]
     },
     "execution_count": 5,
     "metadata": {},
     "output_type": "execute_result"
    }
   ],
   "source": [
    "# Carrega JSON do disco\n",
    "json_path  = './dfs/data_test.json'\n",
    "collection = 'cpp'\n",
    "\n",
    "df = pd.read_json(json_path)  # Read JSON\n",
    "df = df.fillna('')                # Fill empty fields\n",
    "df = df.astype(str)               # Only string allowed\n",
    "print(\"Shape:\", df.shape)         # Shape of the df\n",
    "df.head()                         # Show first four"
   ]
  },
  {
   "cell_type": "code",
   "execution_count": 6,
   "id": "aaea8cc5-9234-41c9-a55a-49c2e2220aca",
   "metadata": {},
   "outputs": [],
   "source": [
    "# Converte JSON para Langchain\n",
    "loader = DataFrameLoader(df, 'body')\n",
    "documents = loader.load()\n",
    "text_splitter = RecursiveCharacterTextSplitter(chunk_size=550, chunk_overlap=55)\n",
    "texts = text_splitter.split_documents(documents)"
   ]
  },
  {
   "cell_type": "code",
   "execution_count": 7,
   "id": "dd96d67f-08d7-4e76-82cc-faf629da0170",
   "metadata": {},
   "outputs": [
    {
     "data": {
      "text/plain": [
       "HuggingFaceBgeEmbeddings(client=SentenceTransformer(\n",
       "  (0): Transformer({'max_seq_length': 8192, 'do_lower_case': False}) with Transformer model: XLMRobertaModel \n",
       "  (1): Pooling({'word_embedding_dimension': 1024, 'pooling_mode_cls_token': True, 'pooling_mode_mean_tokens': False, 'pooling_mode_max_tokens': False, 'pooling_mode_mean_sqrt_len_tokens': False, 'pooling_mode_weightedmean_tokens': False, 'pooling_mode_lasttoken': False, 'include_prompt': True})\n",
       "  (2): Normalize()\n",
       "), model_name='BAAI/bge-m3', cache_folder=None, model_kwargs={'device': 'cuda'}, encode_kwargs={'normalize_embeddings': True}, query_instruction='Represent this question for searching relevant passages: ', embed_instruction='', show_progress=False)"
      ]
     },
     "execution_count": 7,
     "metadata": {},
     "output_type": "execute_result"
    }
   ],
   "source": [
    "# Carrega modelo embedding na GPU (pode usar 'cpu' no lugar de 'cuda')\n",
    "model_name=\"BAAI/bge-m3\"\n",
    "model_kwargs = {'device': 'cuda'}\n",
    "encode_kwargs = {'normalize_embeddings': True}\n",
    "embeddings = HuggingFaceBgeEmbeddings(\n",
    "    model_name=model_name,\n",
    "    model_kwargs=model_kwargs,\n",
    "    encode_kwargs=encode_kwargs\n",
    ")\n",
    "embeddings"
   ]
  },
  {
   "cell_type": "code",
   "execution_count": 8,
   "id": "a6e77a43-d955-41aa-b041-239390f6ade3",
   "metadata": {},
   "outputs": [
    {
     "name": "stderr",
     "output_type": "stream",
     "text": [
      "/home/charles/unb-alana/venv/lib/python3.10/site-packages/qdrant_client/qdrant_remote.py:130: UserWarning: Api key is used with an insecure connection.\n",
      "  warnings.warn(\"Api key is used with an insecure connection.\")\n",
      "/home/charles/unb-alana/venv/lib/python3.10/site-packages/qdrant_client/async_qdrant_remote.py:117: UserWarning: Api key is used with an insecure connection.\n",
      "  warnings.warn(\"Api key is used with an insecure connection.\")\n"
     ]
    },
    {
     "name": "stdout",
     "output_type": "stream",
     "text": [
      "Dados carregados com sucesso no banco de dados de vetores!\n"
     ]
    }
   ],
   "source": [
    "# Cria a coleção (inicie o docker antes com  \"docker run -p 6333:6333 -p 6334:6334 qdrant/qdrant\"\n",
    "# Uma vez carregada, não precisa novamnete, desde que você persista os dados no container\n",
    "url = \"http://localhost:6334\"\n",
    "client = QdrantClient(url=url)\n",
    "\n",
    "Qdrant.from_documents(\n",
    "    texts,\n",
    "    embeddings,\n",
    "    url=url,\n",
    "    prefer_grpc=True,\n",
    "    collection_name=collection,\n",
    "    force_recreate=False\n",
    ")\n",
    "print(\"Dados carregados com sucesso no banco de dados de vetores!\")"
   ]
  },
  {
   "cell_type": "code",
   "execution_count": 6,
   "id": "d8974226-885e-473b-838d-2e4986e7547c",
   "metadata": {},
   "outputs": [
    {
     "name": "stderr",
     "output_type": "stream",
     "text": [
      "/tmp/ipykernel_5503/1484923172.py:5: LangChainDeprecationWarning: The class `Qdrant` was deprecated in LangChain 0.1.2 and will be removed in 0.5.0. Use :class:`~QdrantVectorStore` instead.\n",
      "  db = Qdrant(client=client, embeddings=embeddings, collection_name=\"alana\")\n"
     ]
    }
   ],
   "source": [
    "# Reconfigura o Qdrant para usar a porta 6333\n",
    "url = \"http://localhost:6333\"\n",
    "client = QdrantClient(url=url)\n",
    "\n",
    "db = Qdrant(client=client, embeddings=embeddings, collection_name=collection)"
   ]
  },
  {
   "cell_type": "code",
   "execution_count": 14,
   "id": "424a08c9-3923-43d2-a099-1eac2269230b",
   "metadata": {},
   "outputs": [
    {
     "name": "stdout",
     "output_type": "stream",
     "text": [
      "{'score': 0.649009, 'content': 'of other programs rely on its behaviour not changing, so wholesale rewriting is pretty much not an option.  Note 2: the source is nearly 20 years old, and has perhaps 30% code churn (lines modified + added / previous total lines) per year. It is heavily maintained and extended, in other words. Thus, one of the goals would be to increase mantainability.  [For the sake of the question, assume that translation into C++ is mandatory, and that leaving it in C is not an option. The point of adding this condition is to weed out the \"leave it in C\"', 'metadata': {'creationDate': '20081014', 'postId': '199627', 'postTypeId': '1', 'score': '46', 'tagName': 'c++', 'title': 'Converting C source to C++', 'viewCount': '42406', '_id': 'c3ecdd09-d495-455d-9cf4-90eeb9abc165', '_collection_name': 'alana'}} \n",
      "\n",
      "{'score': 0.63355523, 'content': 'I have been working as a native C++ programmer for last few years. Now we are starting a new project from the scratch. So what is your thoughts on shifting to  C++\\\\CLI at the cost of losing platform independent code. Are there are any special advantages that one can gain by shifting to C++\\\\CLI?', 'metadata': {'creationDate': '20080930', 'postId': '152436', 'postTypeId': '1', 'score': '12', 'tagName': 'c++', 'title': 'Do you recommend Native C++ to C++\\\\CLI shift?', 'viewCount': '2130', '_id': '7f044535-2de0-4e1a-beb2-320fa24c5161', '_collection_name': 'alana'}} \n",
      "\n",
      "{'score': 0.6163168, 'content': 'Can I have a great list of common C++ optimization practices?  What I mean by optimization is that you have to modify the source code to be able to run a program faster, not changing the compiler settings.', 'metadata': {'creationDate': '20090317', 'postId': '653980', 'postTypeId': '1', 'score': '22', 'tagName': 'c++', 'title': 'List of common C++ Optimization Techniques', 'viewCount': '57244', '_id': 'cbc7fdc6-bb6e-44e1-8b33-e2eaa55fe15b', '_collection_name': 'alana'}} \n",
      "\n"
     ]
    }
   ],
   "source": [
    "# Teste de similaridade usando texto\n",
    "# query = \"How to implement a HTTP client.\"\n",
    "query = \"What are the key benefits, challenges, and best practices associated with migrating from C++11 to C++13, as well as performing source code rejuvenation?\"\n",
    "\n",
    "docs = db.similarity_search_with_score(query=query, k=3)\n",
    "for i in docs:\n",
    "    doc, score = i\n",
    "    print({\"score\": score, \"content\": doc.page_content, \"metadata\": doc.metadata },\"\\n\")"
   ]
  },
  {
   "cell_type": "code",
   "execution_count": 15,
   "id": "539d16fc-8682-4cc8-84c2-0e9c2050689a",
   "metadata": {},
   "outputs": [
    {
     "name": "stdout",
     "output_type": "stream",
     "text": [
      "{'score': 0.6163168, 'content': 'of other programs rely on its behaviour not changing, so wholesale rewriting is pretty much not an option.  Note 2: the source is nearly 20 years old, and has perhaps 30% code churn (lines modified + added / previous total lines) per year. It is heavily maintained and extended, in other words. Thus, one of the goals would be to increase mantainability.  [For the sake of the question, assume that translation into C++ is mandatory, and that leaving it in C is not an option. The point of adding this condition is to weed out the \"leave it in C\"', 'metadata': {'creationDate': '20081014', 'postId': '199627', 'postTypeId': '1', 'score': '46', 'tagName': 'c++', 'title': 'Converting C source to C++', 'viewCount': '42406', '_id': 'c3ecdd09-d495-455d-9cf4-90eeb9abc165', '_collection_name': 'alana'}} \n",
      "\n",
      "{'score': 0.6163168, 'content': 'I have been working as a native C++ programmer for last few years. Now we are starting a new project from the scratch. So what is your thoughts on shifting to  C++\\\\CLI at the cost of losing platform independent code. Are there are any special advantages that one can gain by shifting to C++\\\\CLI?', 'metadata': {'creationDate': '20080930', 'postId': '152436', 'postTypeId': '1', 'score': '12', 'tagName': 'c++', 'title': 'Do you recommend Native C++ to C++\\\\CLI shift?', 'viewCount': '2130', '_id': '7f044535-2de0-4e1a-beb2-320fa24c5161', '_collection_name': 'alana'}} \n",
      "\n",
      "{'score': 0.6163168, 'content': 'Can I have a great list of common C++ optimization practices?  What I mean by optimization is that you have to modify the source code to be able to run a program faster, not changing the compiler settings.', 'metadata': {'creationDate': '20090317', 'postId': '653980', 'postTypeId': '1', 'score': '22', 'tagName': 'c++', 'title': 'List of common C++ Optimization Techniques', 'viewCount': '57244', '_id': 'cbc7fdc6-bb6e-44e1-8b33-e2eaa55fe15b', '_collection_name': 'alana'}} \n",
      "\n",
      "Embedded query: [0.015653863549232483, 0.026261260733008385, -0.03028438799083233, 0.031718432903289795, -0.019993165507912636, -0.0457645058631897, 0.02984456531703472, 0.02872058004140854, 0.029074441641569138, 0.027990948408842087, 0.004201015457510948, 0.0021294259931892157, -0.02466004714369774, 0.034977905452251434, -0.016413675621151924, -0.06176217272877693, -0.00931564625352621, 0.02183964103460312, -0.010852768085896969, 0.0021507428027689457, 0.013875232078135014, -0.04515416547656059, -0.012910455465316772, 0.0058843595907092094, 0.002511483384296298, -0.0041138180531561375, 0.039422158151865005, -0.03838866576552391, 0.022700384259223938, 0.0027057789266109467, -0.010467109270393848, 0.036007169634103775, -0.0038339528255164623, -0.023760421201586723, -0.033842336386442184, -0.042375266551971436, 0.00724408682435751, 0.017260823398828506, -0.0590277798473835, -0.01839517615735531, -0.027258945629000664, -0.017184704542160034, 0.042830146849155426, 0.0049547371454536915, -0.00965881533920765, -0.0255139023065567, 0.023626254871487617, -0.015379894524812698, -0.04204731434583664, -0.0047385492362082005]\n"
     ]
    }
   ],
   "source": [
    "# Teste de similaridade usando vetor\n",
    "embedding_vector = embeddings.embed_query(query)\n",
    "docs =  db.similarity_search_by_vector(embedding_vector, k=3)\n",
    "for i in docs:\n",
    "    doc = i\n",
    "    print({\"score\": score, \"content\": doc.page_content, \"metadata\": doc.metadata},\"\\n\")\n",
    "print(\"Embedded query:\",embedding_vector[:50])"
   ]
  },
  {
   "cell_type": "code",
   "execution_count": 16,
   "id": "d3d633cd-ee0a-4128-984f-e798528712b7",
   "metadata": {},
   "outputs": [
    {
     "data": {
      "text/plain": [
       "[Document(metadata={'creationDate': '20081014', 'postId': '199627', 'postTypeId': '1', 'score': '46', 'tagName': 'c++', 'title': 'Converting C source to C++', 'viewCount': '42406', '_id': 'c3ecdd09-d495-455d-9cf4-90eeb9abc165', '_collection_name': 'alana'}, page_content='of other programs rely on its behaviour not changing, so wholesale rewriting is pretty much not an option.  Note 2: the source is nearly 20 years old, and has perhaps 30% code churn (lines modified + added / previous total lines) per year. It is heavily maintained and extended, in other words. Thus, one of the goals would be to increase mantainability.  [For the sake of the question, assume that translation into C++ is mandatory, and that leaving it in C is not an option. The point of adding this condition is to weed out the \"leave it in C\"'),\n",
       " Document(metadata={'creationDate': '20080930', 'postId': '152436', 'postTypeId': '1', 'score': '12', 'tagName': 'c++', 'title': 'Do you recommend Native C++ to C++\\\\CLI shift?', 'viewCount': '2130', '_id': '7f044535-2de0-4e1a-beb2-320fa24c5161', '_collection_name': 'alana'}, page_content='I have been working as a native C++ programmer for last few years. Now we are starting a new project from the scratch. So what is your thoughts on shifting to  C++\\\\CLI at the cost of losing platform independent code. Are there are any special advantages that one can gain by shifting to C++\\\\CLI?'),\n",
       " Document(metadata={'creationDate': '20090317', 'postId': '653980', 'postTypeId': '1', 'score': '22', 'tagName': 'c++', 'title': 'List of common C++ Optimization Techniques', 'viewCount': '57244', '_id': 'cbc7fdc6-bb6e-44e1-8b33-e2eaa55fe15b', '_collection_name': 'alana'}, page_content='Can I have a great list of common C++ optimization practices?  What I mean by optimization is that you have to modify the source code to be able to run a program faster, not changing the compiler settings.')]"
      ]
     },
     "execution_count": 16,
     "metadata": {},
     "output_type": "execute_result"
    }
   ],
   "source": [
    "# Teste usando retriever \n",
    "retriever = db.as_retriever(search_type=\"similarity\", search_kwargs={\"k\": 3})\n",
    "retriever.invoke(query)"
   ]
  },
  {
   "cell_type": "code",
   "execution_count": 17,
   "id": "5716ef6e-c6a6-41f8-9aa2-2cc5b2c90058",
   "metadata": {},
   "outputs": [
    {
     "name": "stderr",
     "output_type": "stream",
     "text": [
      "/tmp/ipykernel_5503/2332878900.py:10: LangChainDeprecationWarning: The class `ChatOllama` was deprecated in LangChain 0.3.1 and will be removed in 1.0.0. An updated version of the class exists in the :class:`~langchain-ollama package and should be used instead. To use it run `pip install -U :class:`~langchain-ollama` and import as `from :class:`~langchain_ollama import ChatOllama``.\n",
      "  llm = ChatOllama(model=\"llama3\")\n"
     ]
    },
    {
     "name": "stdout",
     "output_type": "stream",
     "text": [
      "**Benefits:**\n",
      "\n",
      "1. **Improved Code Readability**: C++13 introduces several language features that improve code readability, such as auto type deduction, generic lambdas, and improved constexpr support.\n",
      "2. **Better Error Messages**: The new `[[nodiscard]]` attribute helps compilers generate more informative error messages when a function is not used or has a non-void return type.\n",
      "3. **Enhanced Concurrency Support**: C++13 introduces the `<atomic>` header for atomic operations and the `<thread>` header for concurrent programming, making it easier to write thread-safe code.\n",
      "\n",
      "**Challenges:**\n",
      "\n",
      "1. **Compatibility Issues**: When migrating from C++11 to C++13, you may encounter compatibility issues with third-party libraries or code that relies on specific language features.\n",
      "2. **Code Rewrite Effort**: Updating your code to take advantage of new language features can require significant effort and rewriting of existing code.\n",
      "3. **Debugging Complexity**: With the introduction of new language features, debugging complexity can increase if you're not familiar with the new features or their interactions.\n",
      "\n",
      "**Best Practices for Source Code Rejuvenation:**\n",
      "\n",
      "1. **Review Code for Redundancy**: Take this opportunity to review your code and remove any redundant or duplicated logic, making it easier to maintain and update in the future.\n",
      "2. **Use Modern Language Features Wisely**: Use C++13's new features to improve code readability and conciseness, but avoid introducing unnecessary complexity or making your code less readable.\n",
      "3. **Test Thoroughly**: Thoroughly test your updated code to ensure that it works as expected and is compatible with the new language features.\n",
      "4. **Code Smells and Refactoring**: Identify and refactor any code smells (e.g., long functions, repeated logic) to make your code more maintainable and easier to understand.\n",
      "5. **Documentation and Comments**: Update documentation and comments in your code to reflect changes and improve readability for other developers.\n",
      "\n",
      "**Additional Tips:**\n",
      "\n",
      "1. **Start with Small Steps**: Begin by updating small parts of your codebase and gradually work your way up to larger sections.\n",
      "2. **Consult the Standard**: Refer to the C++11 and C++13 standards documents for detailed information on new language features and their usage.\n",
      "3. **Seek Guidance**: If you're unsure about how to apply new language features or refactor your code, consult with colleagues, online resources, or seek professional guidance.\n",
      "\n",
      "By following these best practices and tips, you can successfully migrate from C++11 to C++13 and perform source code rejuvenation, leading to more maintainable, readable, and efficient code.\n"
     ]
    }
   ],
   "source": [
    "# Teste de envio do contexto para LLM\n",
    "from langchain.chains import create_retrieval_chain\n",
    "from langchain.chains.combine_documents import create_stuff_documents_chain\n",
    "from langchain_core.prompts import ChatPromptTemplate\n",
    "\n",
    "from langchain_community.chat_models import ChatOllama\n",
    "from langchain_core.output_parsers import StrOutputParser\n",
    "from langchain_core.prompts import ChatPromptTemplate\n",
    "\n",
    "llm = ChatOllama(model=\"llama3\")\n",
    "\n",
    "system_prompt = (\"\"\"\n",
    "You are an experienced C++ developer and a frequent contributor to Stack Overflow. \n",
    "Your task is to provide a comprehensive, well-structured, and insightful answer to the question below based on the provided context.\n",
    "\n",
    "### Context Information:\n",
    "{context}\n",
    "\n",
    "### Question:\n",
    "What are the key benefits, challenges, and best practices associated with migrating between C++ versions, as well as performing source code rejuvenation?\n",
    "\n",
    "### Instructions:\n",
    "1. Use only the context provided to support your answer, ensuring relevance and clarity.\n",
    "2. Be specific and provide actionable, real-world examples when possible.\n",
    "3. Answer each aspect of the question: benefits, challenges, and best practices.\n",
    "4. Structure your answer clearly, using bullet points or numbered lists.\n",
    "5. If the context does not provide enough information, state 'I don't know'.\n",
    "\n",
    "### Response Format:\n",
    "--------------------------------------------------------------\n",
    "**Benefits:**\n",
    "1. [Provide a benefit of migration here.]\n",
    "2. [Provide another benefit of migration here.]\n",
    "3. [Provide a third benefit of migration here.]\n",
    "\n",
    "**Challenges:**\n",
    "1. [Provide a challenge of migration here.]\n",
    "2. [Provide another challenge of migration here.]\n",
    "3. [Provide a third challenge of migration here.]\n",
    "\n",
    "**Best Practices for Source Code Rejuvenation:**\n",
    "1. [Provide a practice for source code rejuvenation here.]\n",
    "2. [Provide another practice for source code rejuvenation here.]\n",
    "3. [Provide a third practice for source code rejuvenation here.]\n",
    "\n",
    "--------------------------------------------------------------\n",
    "Ensure that the response is concise, actionable, and well-formatted. \n",
    "                 \n",
    "\n",
    "\"\"\")\n",
    "\n",
    "prompt = ChatPromptTemplate.from_messages(\n",
    "    [\n",
    "        (\"system\", system_prompt),\n",
    "        (\"human\", \"{input}\"),\n",
    "    ]\n",
    ")\n",
    "\n",
    "chain = prompt | llm | StrOutputParser()\n",
    "question_answer_chain = create_stuff_documents_chain(llm, prompt)\n",
    "\n",
    "rag_chain = create_retrieval_chain(retriever, question_answer_chain)\n",
    "\n",
    "response = rag_chain.invoke({\"input\": \"What are the key benefits, challenges, and best practices associated with migrating from C++11 to C++13, as well as performing source code rejuvenation??\"})\n",
    "print(response[\"answer\"])"
   ]
  },
  {
   "cell_type": "code",
   "execution_count": 18,
   "id": "5c2fedd8",
   "metadata": {},
   "outputs": [
    {
     "data": {
      "text/plain": [
       "{'input': 'What are the key benefits, challenges, and best practices associated with migrating from C++11 to C++13, as well as performing source code rejuvenation??',\n",
       " 'context': [Document(metadata={'creationDate': '20081014', 'postId': '199627', 'postTypeId': '1', 'score': '46', 'tagName': 'c++', 'title': 'Converting C source to C++', 'viewCount': '42406', '_id': 'c3ecdd09-d495-455d-9cf4-90eeb9abc165', '_collection_name': 'alana'}, page_content='of other programs rely on its behaviour not changing, so wholesale rewriting is pretty much not an option.  Note 2: the source is nearly 20 years old, and has perhaps 30% code churn (lines modified + added / previous total lines) per year. It is heavily maintained and extended, in other words. Thus, one of the goals would be to increase mantainability.  [For the sake of the question, assume that translation into C++ is mandatory, and that leaving it in C is not an option. The point of adding this condition is to weed out the \"leave it in C\"'),\n",
       "  Document(metadata={'creationDate': '20080930', 'postId': '152436', 'postTypeId': '1', 'score': '12', 'tagName': 'c++', 'title': 'Do you recommend Native C++ to C++\\\\CLI shift?', 'viewCount': '2130', '_id': '7f044535-2de0-4e1a-beb2-320fa24c5161', '_collection_name': 'alana'}, page_content='I have been working as a native C++ programmer for last few years. Now we are starting a new project from the scratch. So what is your thoughts on shifting to  C++\\\\CLI at the cost of losing platform independent code. Are there are any special advantages that one can gain by shifting to C++\\\\CLI?'),\n",
       "  Document(metadata={'creationDate': '20090317', 'postId': '653980', 'postTypeId': '1', 'score': '22', 'tagName': 'c++', 'title': 'List of common C++ Optimization Techniques', 'viewCount': '57244', '_id': 'cbc7fdc6-bb6e-44e1-8b33-e2eaa55fe15b', '_collection_name': 'alana'}, page_content='Can I have a great list of common C++ optimization practices?  What I mean by optimization is that you have to modify the source code to be able to run a program faster, not changing the compiler settings.')],\n",
       " 'answer': \"**Benefits:**\\n\\n1. **Improved Code Readability**: C++13 introduces several language features that improve code readability, such as auto type deduction, generic lambdas, and improved constexpr support.\\n2. **Better Error Messages**: The new `[[nodiscard]]` attribute helps compilers generate more informative error messages when a function is not used or has a non-void return type.\\n3. **Enhanced Concurrency Support**: C++13 introduces the `<atomic>` header for atomic operations and the `<thread>` header for concurrent programming, making it easier to write thread-safe code.\\n\\n**Challenges:**\\n\\n1. **Compatibility Issues**: When migrating from C++11 to C++13, you may encounter compatibility issues with third-party libraries or code that relies on specific language features.\\n2. **Code Rewrite Effort**: Updating your code to take advantage of new language features can require significant effort and rewriting of existing code.\\n3. **Debugging Complexity**: With the introduction of new language features, debugging complexity can increase if you're not familiar with the new features or their interactions.\\n\\n**Best Practices for Source Code Rejuvenation:**\\n\\n1. **Review Code for Redundancy**: Take this opportunity to review your code and remove any redundant or duplicated logic, making it easier to maintain and update in the future.\\n2. **Use Modern Language Features Wisely**: Use C++13's new features to improve code readability and conciseness, but avoid introducing unnecessary complexity or making your code less readable.\\n3. **Test Thoroughly**: Thoroughly test your updated code to ensure that it works as expected and is compatible with the new language features.\\n4. **Code Smells and Refactoring**: Identify and refactor any code smells (e.g., long functions, repeated logic) to make your code more maintainable and easier to understand.\\n5. **Documentation and Comments**: Update documentation and comments in your code to reflect changes and improve readability for other developers.\\n\\n**Additional Tips:**\\n\\n1. **Start with Small Steps**: Begin by updating small parts of your codebase and gradually work your way up to larger sections.\\n2. **Consult the Standard**: Refer to the C++11 and C++13 standards documents for detailed information on new language features and their usage.\\n3. **Seek Guidance**: If you're unsure about how to apply new language features or refactor your code, consult with colleagues, online resources, or seek professional guidance.\\n\\nBy following these best practices and tips, you can successfully migrate from C++11 to C++13 and perform source code rejuvenation, leading to more maintainable, readable, and efficient code.\"}"
      ]
     },
     "execution_count": 18,
     "metadata": {},
     "output_type": "execute_result"
    }
   ],
   "source": [
    "# Metadado da resposta (incluindo de onde vieram os posts)\n",
    "response"
   ]
  }
 ],
 "metadata": {
  "kernelspec": {
   "display_name": "venv",
   "language": "python",
   "name": "python3"
  },
  "language_info": {
   "codemirror_mode": {
    "name": "ipython",
    "version": 3
   },
   "file_extension": ".py",
   "mimetype": "text/x-python",
   "name": "python",
   "nbconvert_exporter": "python",
   "pygments_lexer": "ipython3",
   "version": "3.10.12"
  }
 },
 "nbformat": 4,
 "nbformat_minor": 5
}
