{
 "cells": [
  {
   "cell_type": "code",
   "execution_count": null,
   "metadata": {},
   "outputs": [],
   "source": [
    "# Install requirements\n",
    "# drop the -q if you want to se the results\n",
    "! pip install -qr requirements.txt"
   ]
  },
  {
   "cell_type": "code",
   "execution_count": 34,
   "metadata": {},
   "outputs": [],
   "source": [
    "# Check the API KEYs\n",
    "import os\n",
    "\n",
    "config = {}\n",
    "\n",
    "if os.path.exists('.env'):\n",
    "    from dotenv import dotenv_values\n",
    "    config = dict(dotenv_values(\".env\"))\n",
    "else:\n",
    "    # Ask about the Qdrant API (get one in cloud.qdrant.io)\n",
    "    config['QDRANT_API_KEY'] = input(\"What is your Qdrant API key?\")\n",
    "    config['QDRANT_CLUSTER'] = input(\"What is your Qdrant cluster?\")\n",
    "    config['QDRANT_COLLECTION'] = input(\"What is your Qdrant collection?\")    "
   ]
  },
  {
   "cell_type": "code",
   "execution_count": 36,
   "metadata": {},
   "outputs": [
    {
     "name": "stdout",
     "output_type": "stream",
     "text": [
      "Shape: (38595, 8)\n"
     ]
    },
    {
     "data": {
      "text/html": [
       "<div>\n",
       "<style scoped>\n",
       "    .dataframe tbody tr th:only-of-type {\n",
       "        vertical-align: middle;\n",
       "    }\n",
       "\n",
       "    .dataframe tbody tr th {\n",
       "        vertical-align: top;\n",
       "    }\n",
       "\n",
       "    .dataframe thead th {\n",
       "        text-align: right;\n",
       "    }\n",
       "</style>\n",
       "<table border=\"1\" class=\"dataframe\">\n",
       "  <thead>\n",
       "    <tr style=\"text-align: right;\">\n",
       "      <th></th>\n",
       "      <th>postId</th>\n",
       "      <th>postTypeId</th>\n",
       "      <th>title</th>\n",
       "      <th>body</th>\n",
       "      <th>tagName</th>\n",
       "      <th>creationDate</th>\n",
       "      <th>score</th>\n",
       "      <th>viewCount</th>\n",
       "    </tr>\n",
       "  </thead>\n",
       "  <tbody>\n",
       "    <tr>\n",
       "      <th>0</th>\n",
       "      <td>25</td>\n",
       "      <td>1</td>\n",
       "      <td>How to use the C socket API in C++ on z/OS</td>\n",
       "      <td>I'm having issues getting the C sockets API to...</td>\n",
       "      <td>c++</td>\n",
       "      <td>20080801</td>\n",
       "      <td>176</td>\n",
       "      <td>16412</td>\n",
       "    </tr>\n",
       "    <tr>\n",
       "      <th>1</th>\n",
       "      <td>264</td>\n",
       "      <td>1</td>\n",
       "      <td>BerkeleyDB Concurrency</td>\n",
       "      <td>What's the optimal level of concurrency that ...</td>\n",
       "      <td>c++</td>\n",
       "      <td>20080801</td>\n",
       "      <td>38</td>\n",
       "      <td>2899</td>\n",
       "    </tr>\n",
       "    <tr>\n",
       "      <th>2</th>\n",
       "      <td>330</td>\n",
       "      <td>1</td>\n",
       "      <td>Should I use nested classes in this case?</td>\n",
       "      <td>I am working on a collection of classes used f...</td>\n",
       "      <td>c++</td>\n",
       "      <td>20080802</td>\n",
       "      <td>58</td>\n",
       "      <td>5019</td>\n",
       "    </tr>\n",
       "    <tr>\n",
       "      <th>3</th>\n",
       "      <td>601</td>\n",
       "      <td>1</td>\n",
       "      <td>Robust Random Number Generation</td>\n",
       "      <td>I'm looking for a performant, reasonably robus...</td>\n",
       "      <td>c++</td>\n",
       "      <td>20080803</td>\n",
       "      <td>42</td>\n",
       "      <td>2145</td>\n",
       "    </tr>\n",
       "    <tr>\n",
       "      <th>4</th>\n",
       "      <td>609</td>\n",
       "      <td>1</td>\n",
       "      <td>Build for Windows NT 4.0 using Visual Studio 2...</td>\n",
       "      <td>An MFC application that I'm trying to migrate ...</td>\n",
       "      <td>c++</td>\n",
       "      <td>20080803</td>\n",
       "      <td>21</td>\n",
       "      <td>4505</td>\n",
       "    </tr>\n",
       "  </tbody>\n",
       "</table>\n",
       "</div>"
      ],
      "text/plain": [
       "  postId postTypeId                                              title  \\\n",
       "0     25          1         How to use the C socket API in C++ on z/OS   \n",
       "1    264          1                             BerkeleyDB Concurrency   \n",
       "2    330          1          Should I use nested classes in this case?   \n",
       "3    601          1                    Robust Random Number Generation   \n",
       "4    609          1  Build for Windows NT 4.0 using Visual Studio 2...   \n",
       "\n",
       "                                                body tagName creationDate  \\\n",
       "0  I'm having issues getting the C sockets API to...     c++     20080801   \n",
       "1   What's the optimal level of concurrency that ...     c++     20080801   \n",
       "2  I am working on a collection of classes used f...     c++     20080802   \n",
       "3  I'm looking for a performant, reasonably robus...     c++     20080803   \n",
       "4  An MFC application that I'm trying to migrate ...     c++     20080803   \n",
       "\n",
       "  score viewCount  \n",
       "0   176     16412  \n",
       "1    38      2899  \n",
       "2    58      5019  \n",
       "3    42      2145  \n",
       "4    21      4505  "
      ]
     },
     "execution_count": 36,
     "metadata": {},
     "output_type": "execute_result"
    }
   ],
   "source": [
    "# Load the dataset\n",
    "import pandas\n",
    "\n",
    "json_path = './dfs/data_cpp.json'\n",
    "\n",
    "df = pandas.read_json(json_path)  # Read JSON\n",
    "df = df.fillna('')                # Fill empty fields\n",
    "df = df.astype(str)               # Only string allowed\n",
    "print(\"Shape:\", df.shape)         # Shape of the df\n",
    "df.head()                         # Show first four"
   ]
  },
  {
   "cell_type": "code",
   "execution_count": null,
   "metadata": {},
   "outputs": [],
   "source": [
    "# Ingest data on Qdrant\n",
    "from qdrant_client import QdrantClient\n",
    "\n",
    "client = QdrantClient(\n",
    "    url=config['QDRANT_CLUSTER'],\n",
    "    https=True,\n",
    "    api_key=config['QDRANT_API_KEY']\n",
    ")\n",
    "\n",
    "# Prepare documents and payload\n",
    "documents = df['title'] + \" \" + df['body']  # Index only title and body\n",
    "payload = df[[                              # Use all you have as metadata\n",
    "    'postId', \n",
    "    'postTypeId', \n",
    "    'tagName', \n",
    "    'creationDate', \n",
    "    'score', \n",
    "    'viewCount'\n",
    "]].to_dict(orient='records')\n",
    "\n",
    "# Create a collection\n",
    "collection_name = config['QDRANT_COLLECTION']\n",
    "\n",
    "try:\n",
    "    client.create_collection(\n",
    "        collection_name=collection_name,\n",
    "        vector_size=1536,  # Default for fastembedding\n",
    "        distance=\"Cosine\"  # Choose your distance metric\n",
    "    )\n",
    "except:\n",
    "    # It exists already, just ignore the error\n",
    "    pass"
   ]
  },
  {
   "cell_type": "code",
   "execution_count": 42,
   "metadata": {},
   "outputs": [
    {
     "name": "stderr",
     "output_type": "stream",
     "text": [
      "100%|██████████| 77.7M/77.7M [00:03<00:00, 24.4MiB/s]\n",
      "WARNING:root:Batch upload failed 1 times. Retrying...\n"
     ]
    },
    {
     "name": "stdout",
     "output_type": "stream",
     "text": [
      "Data successfully ingested\n"
     ]
    }
   ],
   "source": [
    "# If everything looks good, ingest it\n",
    "client.add(\n",
    "    collection_name=collection_name,    \n",
    "    documents=documents.tolist(),    # List of strings (documents to index)\n",
    "    metadata=payload                 # Metadata payload\n",
    ")\n",
    "\n",
    "print(\"Data successfully ingested\")"
   ]
  }
 ],
 "metadata": {
  "kernelspec": {
   "display_name": "venv",
   "language": "python",
   "name": "python3"
  },
  "language_info": {
   "codemirror_mode": {
    "name": "ipython",
    "version": 3
   },
   "file_extension": ".py",
   "mimetype": "text/x-python",
   "name": "python",
   "nbconvert_exporter": "python",
   "pygments_lexer": "ipython3",
   "version": "3.10.12"
  }
 },
 "nbformat": 4,
 "nbformat_minor": 2
}
