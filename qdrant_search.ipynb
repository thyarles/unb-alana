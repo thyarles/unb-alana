{
 "cells": [
  {
   "cell_type": "code",
   "execution_count": 1,
   "metadata": {},
   "outputs": [],
   "source": [
    "# Install requirements\n",
    "# drop the -q if you want to se the results\n",
    "! pip install -qr requirements.txt"
   ]
  },
  {
   "cell_type": "code",
   "execution_count": 1,
   "metadata": {},
   "outputs": [],
   "source": [
    "# Check the API KEYs\n",
    "import os\n",
    "\n",
    "config = {}\n",
    "\n",
    "if os.path.exists('.env'):\n",
    "    from dotenv import dotenv_values\n",
    "    config = dict(dotenv_values(\".env\"))\n",
    "else:\n",
    "    # Ask about the Qdrant API (get one in cloud.qdrant.io)\n",
    "    config['QDRANT_API_KEY'] = input(\"What is your Qdrant API key?\")\n",
    "    config['QDRANT_CLUSTER'] = input(\"What is your Qdrant cluster?\")\n",
    "    config['QDRANT_COLLECTION'] = input(\"What is your Qdrant collection?\")   "
   ]
  },
  {
   "cell_type": "code",
   "execution_count": null,
   "metadata": {},
   "outputs": [],
   "source": [
    "# Prompt\n",
    "def create_prompt(context, previous_version, current_version):\n",
    "    prompt = \"\"\"\n",
    "You are an experienced C++ developer and a frequent contributor to Stack Overflow. \n",
    "Your task is to provide a comprehensive, well-structured, and insightful answer to the question below based on the provided context.\n",
    "\n",
    "### Context Information:\n",
    "{context}\n",
    "\n",
    "### Question:\n",
    "What are the key benefits, challenges, and best practices associated with migrating from C++{previous_version} to C++{current_version}, as well as performing source code rejuvenation?\n",
    "\n",
    "### Instructions:\n",
    "1. Use only the context provided to support your answer, ensuring relevance and clarity.\n",
    "2. Be specific and provide actionable, real-world examples when possible.\n",
    "3. Answer each aspect of the question: benefits, challenges, and best practices.\n",
    "4. Structure your answer clearly, using bullet points or numbered lists.\n",
    "5. If the context does not provide enough information, state 'I don't know'.\n",
    "\n",
    "### Response Format:\n",
    "--------------------------------------------------------------\n",
    "**Benefits:**\n",
    "1. [Provide a benefit of migration here.]\n",
    "2. [Provide another benefit of migration here.]\n",
    "3. [Provide a third benefit of migration here.]\n",
    "\n",
    "**Challenges:**\n",
    "1. [Provide a challenge of migration here.]\n",
    "2. [Provide another challenge of migration here.]\n",
    "3. [Provide a third challenge of migration here.]\n",
    "\n",
    "**Best Practices for Source Code Rejuvenation:**\n",
    "1. [Provide a practice for source code rejuvenation here.]\n",
    "2. [Provide another practice for source code rejuvenation here.]\n",
    "3. [Provide a third practice for source code rejuvenation here.]\n",
    "\n",
    "--------------------------------------------------------------\n",
    "Ensure that the response is concise, actionable, and well-formatted. \"\"\"\n",
    "\n",
    "    return prompt.format(context=context,\n",
    "                         current_version=current_version,\n",
    "                         previous_version=previous_version\n",
    "                        )"
   ]
  },
  {
   "cell_type": "code",
   "execution_count": 5,
   "metadata": {},
   "outputs": [],
   "source": [
    "# Config search on Qdrant\n",
    "from qdrant_client import QdrantClient\n",
    "\n",
    "client = QdrantClient(\n",
    "    url=config['QDRANT_CLUSTER'],\n",
    "    https=True,\n",
    "    api_key=config['QDRANT_API_KEY']\n",
    ")"
   ]
  },
  {
   "cell_type": "code",
   "execution_count": null,
   "metadata": {},
   "outputs": [],
   "source": [
    "# Define a basic search \n",
    "from sentence_transformers import SentenceTransformer\n",
    "\n",
    "# Model\n",
    "model = SentenceTransformer('all-MiniLM-L6-v2')\n",
    "\n",
    "def search(query, top_n=5):\n",
    "    # Vectorize the query\n",
    "    query_embedding = model.encode([query])[0]\n",
    "    \n",
    "    # Search\n",
    "    search_result = client.search(\n",
    "        collection_name=config['QDRANT_COLLECTION'],\n",
    "        query_vector=query_embedding.tolist(),\n",
    "        limit=top_n\n",
    "    )\n",
    "    \n",
    "    return search_result\n",
    "\n",
    "    # # Process results\n",
    "    # results = []\n",
    "    # for hit in search_result:\n",
    "    #     # For each hit, extract the ID, score, and metadata\n",
    "    #     doc_id = hit.id\n",
    "    #     score = hit.score\n",
    "    #     metadata = hit.payload\n",
    "    #     results.append({\n",
    "    #         'id': doc_id,\n",
    "    #         'score': score,\n",
    "    #         'metadata': metadata\n",
    "    #     })\n",
    "    \n"
   ]
  },
  {
   "cell_type": "code",
   "execution_count": 13,
   "metadata": {},
   "outputs": [
    {
     "ename": "AssertionError",
     "evalue": "Unknown arguments: ['distance']",
     "output_type": "error",
     "traceback": [
      "\u001b[0;31m---------------------------------------------------------------------------\u001b[0m",
      "\u001b[0;31mAssertionError\u001b[0m                            Traceback (most recent call last)",
      "Cell \u001b[0;32mIn[13], line 2\u001b[0m\n\u001b[1;32m      1\u001b[0m \u001b[38;5;66;03m# A silly test\u001b[39;00m\n\u001b[0;32m----> 2\u001b[0m results \u001b[38;5;241m=\u001b[39m \u001b[43msearch\u001b[49m\u001b[43m(\u001b[49m\u001b[38;5;124;43m\"\u001b[39;49m\u001b[38;5;124;43mThe migration from QWebKit to QWebEngine seems to be much\u001b[39;49m\u001b[38;5;124;43m\"\u001b[39;49m\u001b[43m)\u001b[49m\n\u001b[1;32m      3\u001b[0m \u001b[38;5;28;01mfor\u001b[39;00m i, result \u001b[38;5;129;01min\u001b[39;00m \u001b[38;5;28menumerate\u001b[39m(results):\n\u001b[1;32m      4\u001b[0m     \u001b[38;5;28mprint\u001b[39m(\u001b[38;5;124mf\u001b[39m\u001b[38;5;124m\"\u001b[39m\u001b[38;5;132;01m{\u001b[39;00mi\u001b[38;5;241m+\u001b[39m\u001b[38;5;241m1\u001b[39m\u001b[38;5;132;01m}\u001b[39;00m\u001b[38;5;124m) \u001b[39m\u001b[38;5;132;01m{\u001b[39;00mresult\u001b[38;5;241m.\u001b[39mdocument\u001b[38;5;132;01m}\u001b[39;00m\u001b[38;5;124m\"\u001b[39m)\n",
      "Cell \u001b[0;32mIn[12], line 12\u001b[0m, in \u001b[0;36msearch\u001b[0;34m(query, top_n)\u001b[0m\n\u001b[1;32m      9\u001b[0m query_embedding \u001b[38;5;241m=\u001b[39m model\u001b[38;5;241m.\u001b[39mencode([query])[\u001b[38;5;241m0\u001b[39m]\n\u001b[1;32m     11\u001b[0m \u001b[38;5;66;03m# Search\u001b[39;00m\n\u001b[0;32m---> 12\u001b[0m search_result \u001b[38;5;241m=\u001b[39m \u001b[43mclient\u001b[49m\u001b[38;5;241;43m.\u001b[39;49m\u001b[43msearch\u001b[49m\u001b[43m(\u001b[49m\n\u001b[1;32m     13\u001b[0m \u001b[43m    \u001b[49m\u001b[43mcollection_name\u001b[49m\u001b[38;5;241;43m=\u001b[39;49m\u001b[43mconfig\u001b[49m\u001b[43m[\u001b[49m\u001b[38;5;124;43m'\u001b[39;49m\u001b[38;5;124;43mQDRANT_COLLECTION\u001b[39;49m\u001b[38;5;124;43m'\u001b[39;49m\u001b[43m]\u001b[49m\u001b[43m,\u001b[49m\n\u001b[1;32m     14\u001b[0m \u001b[43m    \u001b[49m\u001b[43mquery_vector\u001b[49m\u001b[38;5;241;43m=\u001b[39;49m\u001b[43mquery_embedding\u001b[49m\u001b[38;5;241;43m.\u001b[39;49m\u001b[43mtolist\u001b[49m\u001b[43m(\u001b[49m\u001b[43m)\u001b[49m\u001b[43m,\u001b[49m\n\u001b[1;32m     15\u001b[0m \u001b[43m    \u001b[49m\u001b[43mlimit\u001b[49m\u001b[38;5;241;43m=\u001b[39;49m\u001b[43mtop_n\u001b[49m\u001b[43m,\u001b[49m\u001b[43m  \u001b[49m\n\u001b[1;32m     16\u001b[0m \u001b[43m    \u001b[49m\u001b[43mdistance\u001b[49m\u001b[38;5;241;43m=\u001b[39;49m\u001b[38;5;124;43m\"\u001b[39;49m\u001b[38;5;124;43mCosine\u001b[39;49m\u001b[38;5;124;43m\"\u001b[39;49m\n\u001b[1;32m     17\u001b[0m \u001b[43m\u001b[49m\u001b[43m)\u001b[49m\n\u001b[1;32m     19\u001b[0m \u001b[38;5;28;01mreturn\u001b[39;00m search_result\n",
      "File \u001b[0;32m~/unb-alana/venv/lib/python3.10/site-packages/qdrant_client/qdrant_client.py:385\u001b[0m, in \u001b[0;36mQdrantClient.search\u001b[0;34m(self, collection_name, query_vector, query_filter, search_params, limit, offset, with_payload, with_vectors, score_threshold, append_payload, consistency, shard_key_selector, timeout, **kwargs)\u001b[0m\n\u001b[1;32m    293\u001b[0m \u001b[38;5;28;01mdef\u001b[39;00m \u001b[38;5;21msearch\u001b[39m(\n\u001b[1;32m    294\u001b[0m     \u001b[38;5;28mself\u001b[39m,\n\u001b[1;32m    295\u001b[0m     collection_name: \u001b[38;5;28mstr\u001b[39m,\n\u001b[0;32m   (...)\u001b[0m\n\u001b[1;32m    314\u001b[0m     \u001b[38;5;241m*\u001b[39m\u001b[38;5;241m*\u001b[39mkwargs: Any,\n\u001b[1;32m    315\u001b[0m ) \u001b[38;5;241m-\u001b[39m\u001b[38;5;241m>\u001b[39m List[types\u001b[38;5;241m.\u001b[39mScoredPoint]:\n\u001b[1;32m    316\u001b[0m \u001b[38;5;250m    \u001b[39m\u001b[38;5;124;03m\"\"\"Search for closest vectors in collection taking into account filtering conditions\u001b[39;00m\n\u001b[1;32m    317\u001b[0m \n\u001b[1;32m    318\u001b[0m \u001b[38;5;124;03m    Args:\u001b[39;00m\n\u001b[0;32m   (...)\u001b[0m\n\u001b[1;32m    383\u001b[0m \u001b[38;5;124;03m        List of found close points with similarity scores.\u001b[39;00m\n\u001b[1;32m    384\u001b[0m \u001b[38;5;124;03m    \"\"\"\u001b[39;00m\n\u001b[0;32m--> 385\u001b[0m     \u001b[38;5;28;01massert\u001b[39;00m \u001b[38;5;28mlen\u001b[39m(kwargs) \u001b[38;5;241m==\u001b[39m \u001b[38;5;241m0\u001b[39m, \u001b[38;5;124mf\u001b[39m\u001b[38;5;124m\"\u001b[39m\u001b[38;5;124mUnknown arguments: \u001b[39m\u001b[38;5;132;01m{\u001b[39;00m\u001b[38;5;28mlist\u001b[39m(kwargs\u001b[38;5;241m.\u001b[39mkeys())\u001b[38;5;132;01m}\u001b[39;00m\u001b[38;5;124m\"\u001b[39m\n\u001b[1;32m    387\u001b[0m     \u001b[38;5;28;01mreturn\u001b[39;00m \u001b[38;5;28mself\u001b[39m\u001b[38;5;241m.\u001b[39m_client\u001b[38;5;241m.\u001b[39msearch(\n\u001b[1;32m    388\u001b[0m         collection_name\u001b[38;5;241m=\u001b[39mcollection_name,\n\u001b[1;32m    389\u001b[0m         query_vector\u001b[38;5;241m=\u001b[39mquery_vector,\n\u001b[0;32m   (...)\u001b[0m\n\u001b[1;32m    401\u001b[0m         \u001b[38;5;241m*\u001b[39m\u001b[38;5;241m*\u001b[39mkwargs,\n\u001b[1;32m    402\u001b[0m     )\n",
      "\u001b[0;31mAssertionError\u001b[0m: Unknown arguments: ['distance']"
     ]
    }
   ],
   "source": [
    "# A silly test\n",
    "results = search(\"The migration from QWebKit to QWebEngine seems to be much\")\n",
    "for i, result in enumerate(results):\n",
    "    print(f\"{i+1}) {result.document}\")\n",
    "    print(f\"   postID: {result.metadata['postId']}\")\n",
    "    print(f\"   viewCount: {result.metadata['viewCount']}\")    \n",
    "    print(f\"   qdrant score: {result.score}\")    "
   ]
  },
  {
   "cell_type": "code",
   "execution_count": 12,
   "metadata": {},
   "outputs": [
    {
     "name": "stdout",
     "output_type": "stream",
     "text": [
      "\n",
      "You are an experienced C++ developer and a frequent contributor to Stack Overflow. \n",
      "Your task is to provide a comprehensive, well-structured, and insightful answer to the question below based on the provided context.\n",
      "\n",
      "### Context Information:\n",
      "Are there any plans for C++14 or later for standardized backtrace and other debugging utilities? Are there any plans for standardized backtrace and other debugging utilities to be added to C++14 (or above), or will it continue to be a functionality added by OS or compiler? \n",
      "\n",
      "How many versions of the C++ Standards are there? In C there's C89, C99, and C11; what about C++? Is there any upgrade since it came out?  \n",
      "\n",
      "How are you using C++11 today? This is a question in two parts, the first is the most important and concerns now:   Are you following the design and evolution of C++11?  What blogs, newsgroups, committee papers, and other resources do you follow? Even where you're not using any new features, how have they affected your current choices? What new features are you using now, either in production or otherwise?   The second part is a follow-up, concerning the new standard once it is final:   Do you expect to use it immediately?  What are you doing to prepare for C++11, other than as listed for the previous questions? Obviously, compiler support must be there, but there's still co-workers, ancillary tools, and other factors to consider.  What will most affect your adoption?     Edit: The original really was too argumentative; however, I'm still interested in the underlying question, so I've tried to clean it up and hopefully make it acceptable.  This seems a much better avenue than duplicating&mdash;even though some answers responded to the argumentative tone, they still apply to the extent that they addressed the questions, and all answers are community property to be cleaned up as appropriate, too. \n",
      "\n",
      "Switching to C++11 We are going to start a long lasting project using C++ as the programming language.  I read that C++0x is going to come out in 2011, so they called it C++11.  When C++11 comes out, we will still be developing the project, and would like to know if it is possible to use any features of the new C++ standard now,  to able to:   code faster than with the old C++ and switch easily when the new standard arrives?  \n",
      "\n",
      "Are new and delete still useful in C++14? Given availability of make_unique and make_shared, as well as automatic deletion by unique_ptr and shared_ptr destructors, what are the situations (apart from supporting legacy code) for using new and delete in C++14? \n",
      "\n",
      "### Question:\n",
      "What are the key benefits, challenges, and best practices associated with migrating from C++11 to C++13, as well as performing source code rejuvenation?\n",
      "\n",
      "### Instructions:\n",
      "1. Use only the context provided to support your answer, ensuring relevance and clarity.\n",
      "2. Be specific and provide actionable, real-world examples when possible.\n",
      "3. Answer each aspect of the question: benefits, challenges, and best practices.\n",
      "4. Structure your answer clearly, using bullet points or numbered lists.\n",
      "5. If the context does not provide enough information, state 'I don't know'.\n",
      "\n",
      "### Response Format:\n",
      "--------------------------------------------------------------\n",
      "**Benefits:**\n",
      "1. [Provide a benefit of migration here.]\n",
      "2. [Provide another benefit of migration here.]\n",
      "3. [Provide a third benefit of migration here.]\n",
      "\n",
      "**Challenges:**\n",
      "1. [Provide a challenge of migration here.]\n",
      "2. [Provide another challenge of migration here.]\n",
      "3. [Provide a third challenge of migration here.]\n",
      "\n",
      "**Best Practices for Source Code Rejuvenation:**\n",
      "1. [Provide a practice for source code rejuvenation here.]\n",
      "2. [Provide another practice for source code rejuvenation here.]\n",
      "3. [Provide a third practice for source code rejuvenation here.]\n",
      "\n",
      "--------------------------------------------------------------\n",
      "Ensure that the response is concise, actionable, and well-formatted. \n"
     ]
    }
   ],
   "source": [
    "# Make a full prompt\n",
    "context = '\\n\\n'.join([x.metadata['document'] for x in results])\n",
    "prompt = create_prompt(context=context, previous_version=\"11\", current_version=\"13\")\n",
    "print(prompt)"
   ]
  },
  {
   "cell_type": "code",
   "execution_count": 13,
   "metadata": {},
   "outputs": [
    {
     "name": "stdout",
     "output_type": "stream",
     "text": [
      "**Benefits:**\n",
      "\n",
      "1. **Improved Code Safety**: Migrating from C++11 to C++13 or higher versions ensures compliance with updated standards, which can lead to improved code safety through reduced risks of undefined behavior.\n",
      "2. **Enhanced Performance**: New features in C++13 and later (like `std::atomic` for better thread-safety) and the latest standard (`C++20` with concepts, ranges, and coroutines) provide opportunities for performance improvements in modern applications.\n",
      "3. **Future-Proofing Code**: Adopting newer standards means your code is more likely to remain relevant as time passes, without needing significant updates to take advantage of future features.\n",
      "\n",
      "**Challenges:**\n",
      "\n",
      "1. **Compiler Support**: Early adoption might require using beta or experimental compilers, which can introduce bugs and compatibility issues.\n",
      "2. **Portability Issues**: As you migrate forward in standards, older codebases may need adjustments for the newer versions' requirements, potentially complicating cross-platform development.\n",
      "3. **Code Review and Testing**: Thoroughly reviewing and testing your updated codebase is crucial to ensure that changes align with intended outcomes without introducing new bugs.\n",
      "\n",
      "**Best Practices for Source Code Rejuvenation:**\n",
      "\n",
      "1. **Incremental Changes**: Update code incrementally rather than all at once, starting with parts of the codebase where newer features can provide significant benefits.\n",
      "2. **Test-Driven Development (TDD)**: Use TDD methodologies to ensure that changes do not introduce regressions and align with expected outcomes before merging them into your main branch.\n",
      "3. **Code Review and Pair Programming**: Engage in regular code reviews, especially when adopting new features or updating older code, to catch any mistakes early and improve collective understanding of the updated codebase.\n",
      "\n",
      "As for migrating from C++11 to C++13 specifically, given that there isn't a significant gap between these versions like the one from C++11 to C++20, benefits primarily revolve around taking advantage of newer features aimed at improving safety (`std::atomic`) and performance without needing a major jump in standards. The challenges and best practices mentioned above remain relevant for such migrations, focusing on ensuring smooth adoption with minimal disruptions.\n"
     ]
    }
   ],
   "source": [
    "# Call local ollama\n",
    "from ollama import chat\n",
    "from ollama import ChatResponse\n",
    "\n",
    "response: ChatResponse = chat(model='llama3.1', messages=[\n",
    "  {\n",
    "    'role': 'user',\n",
    "    'content': prompt,\n",
    "  },\n",
    "])\n",
    "print(response.message.content)"
   ]
  }
 ],
 "metadata": {
  "kernelspec": {
   "display_name": "venv",
   "language": "python",
   "name": "python3"
  },
  "language_info": {
   "codemirror_mode": {
    "name": "ipython",
    "version": 3
   },
   "file_extension": ".py",
   "mimetype": "text/x-python",
   "name": "python",
   "nbconvert_exporter": "python",
   "pygments_lexer": "ipython3",
   "version": "3.10.12"
  }
 },
 "nbformat": 4,
 "nbformat_minor": 2
}
