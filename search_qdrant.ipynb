{
 "cells": [
  {
   "cell_type": "code",
   "execution_count": 1,
   "metadata": {},
   "outputs": [],
   "source": [
    "# Install requirements\n",
    "# drop the -q if you want to se the results\n",
    "! pip install -qr requirements.txt"
   ]
  },
  {
   "cell_type": "code",
   "execution_count": 2,
   "metadata": {},
   "outputs": [],
   "source": [
    "# Check the API KEYs\n",
    "import os\n",
    "\n",
    "config = {}\n",
    "\n",
    "if os.path.exists('.env'):\n",
    "    from dotenv import dotenv_values\n",
    "    config = dict(dotenv_values(\".env\"))\n",
    "else:\n",
    "    # Ask about the Qdrant API (get one in cloud.qdrant.io)\n",
    "    config['QDRANT_API_KEY'] = input(\"What is your Qdrant API key?\")\n",
    "    config['QDRANT_CLUSTER'] = input(\"What is your Qdrant cluster?\")\n",
    "    config['QDRANT_COLLECTION'] = input(\"What is your Qdrant collection?\")   "
   ]
  },
  {
   "cell_type": "code",
   "execution_count": 10,
   "metadata": {},
   "outputs": [],
   "source": [
    "# Prompt\n",
    "def create_prompt(context, previous_version, current_version):\n",
    "    prompt = \"\"\"\n",
    "You are an experienced C++ developer and a frequent contributor to Stack Overflow. \n",
    "Your task is to provide a comprehensive, well-structured, and insightful answer to the question below based on the provided context.\n",
    "\n",
    "### Context Information:\n",
    "{context}\n",
    "\n",
    "### Question:\n",
    "What are the key benefits, challenges, and best practices associated with migrating from C++{previous_version} to C++{current_version}, as well as performing source code rejuvenation?\n",
    "\n",
    "### Instructions:\n",
    "1. Use only the context provided to support your answer, ensuring relevance and clarity.\n",
    "2. Be specific and provide actionable, real-world examples when possible.\n",
    "3. Answer each aspect of the question: benefits, challenges, and best practices.\n",
    "4. Structure your answer clearly, using bullet points or numbered lists.\n",
    "5. If the context does not provide enough information, state 'I don't know'.\n",
    "\n",
    "### Response Format:\n",
    "--------------------------------------------------------------\n",
    "**Benefits:**\n",
    "1. [Provide a benefit of migration here.]\n",
    "2. [Provide another benefit of migration here.]\n",
    "3. [Provide a third benefit of migration here.]\n",
    "\n",
    "**Challenges:**\n",
    "1. [Provide a challenge of migration here.]\n",
    "2. [Provide another challenge of migration here.]\n",
    "3. [Provide a third challenge of migration here.]\n",
    "\n",
    "**Best Practices for Source Code Rejuvenation:**\n",
    "1. [Provide a practice for source code rejuvenation here.]\n",
    "2. [Provide another practice for source code rejuvenation here.]\n",
    "3. [Provide a third practice for source code rejuvenation here.]\n",
    "\n",
    "--------------------------------------------------------------\n",
    "Ensure that the response is concise, actionable, and well-formatted. \"\"\"\n",
    "\n",
    "    return prompt.format(context=context,\n",
    "                         current_version=current_version,\n",
    "                         previous_version=previous_version\n",
    "                        )"
   ]
  },
  {
   "cell_type": "code",
   "execution_count": 5,
   "metadata": {},
   "outputs": [
    {
     "name": "stderr",
     "output_type": "stream",
     "text": [
      "/home/charles/unb-alana/venv/lib/python3.10/site-packages/tqdm/auto.py:21: TqdmWarning: IProgress not found. Please update jupyter and ipywidgets. See https://ipywidgets.readthedocs.io/en/stable/user_install.html\n",
      "  from .autonotebook import tqdm as notebook_tqdm\n"
     ]
    }
   ],
   "source": [
    "# Config search on Qdrant\n",
    "from qdrant_client import QdrantClient\n",
    "\n",
    "client = QdrantClient(\n",
    "    url=config['QDRANT_CLUSTER'],\n",
    "    https=True,\n",
    "    api_key=config['QDRANT_API_KEY']\n",
    ")"
   ]
  },
  {
   "cell_type": "code",
   "execution_count": null,
   "metadata": {},
   "outputs": [],
   "source": [
    "# Define a basic search \n",
    "def search(query):\n",
    "    results = client.query(\n",
    "        collection_name=config['QDRANT_COLLECTION'],\n",
    "        query_text=query,\n",
    "        limit=5\n",
    "    )\n",
    "    return results"
   ]
  },
  {
   "cell_type": "code",
   "execution_count": 7,
   "metadata": {},
   "outputs": [
    {
     "name": "stdout",
     "output_type": "stream",
     "text": [
      "1) Are there any plans for C++14 or later for standardized backtrace and other debugging utilities? Are there any plans for standardized backtrace and other debugging utilities to be added to C++14 (or above), or will it continue to be a functionality added by OS or compiler? \n",
      "   postID: 21819017\n",
      "   viewCount: 480\n",
      "   qdrant score: 0.8959615\n",
      "2) How many versions of the C++ Standards are there? In C there's C89, C99, and C11; what about C++? Is there any upgrade since it came out?  \n",
      "   postID: 3940389\n",
      "   viewCount: 14367\n",
      "   qdrant score: 0.88990366\n",
      "3) How are you using C++11 today? This is a question in two parts, the first is the most important and concerns now:   Are you following the design and evolution of C++11?  What blogs, newsgroups, committee papers, and other resources do you follow? Even where you're not using any new features, how have they affected your current choices? What new features are you using now, either in production or otherwise?   The second part is a follow-up, concerning the new standard once it is final:   Do you expect to use it immediately?  What are you doing to prepare for C++11, other than as listed for the previous questions? Obviously, compiler support must be there, but there's still co-workers, ancillary tools, and other factors to consider.  What will most affect your adoption?     Edit: The original really was too argumentative; however, I'm still interested in the underlying question, so I've tried to clean it up and hopefully make it acceptable.  This seems a much better avenue than duplicating&mdash;even though some answers responded to the argumentative tone, they still apply to the extent that they addressed the questions, and all answers are community property to be cleaned up as appropriate, too. \n",
      "   postID: 1754397\n",
      "   viewCount: 3867\n",
      "   qdrant score: 0.8876625\n",
      "4) Switching to C++11 We are going to start a long lasting project using C++ as the programming language.  I read that C++0x is going to come out in 2011, so they called it C++11.  When C++11 comes out, we will still be developing the project, and would like to know if it is possible to use any features of the new C++ standard now,  to able to:   code faster than with the old C++ and switch easily when the new standard arrives?  \n",
      "   postID: 2453126\n",
      "   viewCount: 6458\n",
      "   qdrant score: 0.88717175\n",
      "5) Are new and delete still useful in C++14? Given availability of make_unique and make_shared, as well as automatic deletion by unique_ptr and shared_ptr destructors, what are the situations (apart from supporting legacy code) for using new and delete in C++14? \n",
      "   postID: 30762994\n",
      "   viewCount: 5701\n",
      "   qdrant score: 0.88323\n"
     ]
    }
   ],
   "source": [
    "# A silly test\n",
    "results = search(\"What are the main benefits and challenges of migrating from C++11 to C++14?\")\n",
    "for i, result in enumerate(results):\n",
    "    print(f\"{i+1}) {result.document}\")\n",
    "    print(f\"   postID: {result.metadata['postId']}\")\n",
    "    print(f\"   viewCount: {result.metadata['viewCount']}\")    \n",
    "    print(f\"   qdrant score: {result.score}\")    "
   ]
  },
  {
   "cell_type": "code",
   "execution_count": 13,
   "metadata": {},
   "outputs": [
    {
     "name": "stdout",
     "output_type": "stream",
     "text": [
      "\n",
      "You are an experienced C++ developer and a frequent contributor to Stack Overflow. \n",
      "Your task is to provide a comprehensive, well-structured, and insightful answer to the question below based on the provided context.\n",
      "\n",
      "### Context Information:\n",
      "Are there any plans for C++14 or later for standardized backtrace and other debugging utilities? Are there any plans for standardized backtrace and other debugging utilities to be added to C++14 (or above), or will it continue to be a functionality added by OS or compiler? \n",
      "\n",
      "How many versions of the C++ Standards are there? In C there's C89, C99, and C11; what about C++? Is there any upgrade since it came out?  \n",
      "\n",
      "How are you using C++11 today? This is a question in two parts, the first is the most important and concerns now:   Are you following the design and evolution of C++11?  What blogs, newsgroups, committee papers, and other resources do you follow? Even where you're not using any new features, how have they affected your current choices? What new features are you using now, either in production or otherwise?   The second part is a follow-up, concerning the new standard once it is final:   Do you expect to use it immediately?  What are you doing to prepare for C++11, other than as listed for the previous questions? Obviously, compiler support must be there, but there's still co-workers, ancillary tools, and other factors to consider.  What will most affect your adoption?     Edit: The original really was too argumentative; however, I'm still interested in the underlying question, so I've tried to clean it up and hopefully make it acceptable.  This seems a much better avenue than duplicating&mdash;even though some answers responded to the argumentative tone, they still apply to the extent that they addressed the questions, and all answers are community property to be cleaned up as appropriate, too. \n",
      "\n",
      "Switching to C++11 We are going to start a long lasting project using C++ as the programming language.  I read that C++0x is going to come out in 2011, so they called it C++11.  When C++11 comes out, we will still be developing the project, and would like to know if it is possible to use any features of the new C++ standard now,  to able to:   code faster than with the old C++ and switch easily when the new standard arrives?  \n",
      "\n",
      "Are new and delete still useful in C++14? Given availability of make_unique and make_shared, as well as automatic deletion by unique_ptr and shared_ptr destructors, what are the situations (apart from supporting legacy code) for using new and delete in C++14? \n",
      "\n",
      "### Question:\n",
      "What are the key benefits, challenges, and best practices associated with migrating from C++11 to C++13, as well as performing source code rejuvenation?\n",
      "\n",
      "### Instructions:\n",
      "1. Use only the context provided to support your answer, ensuring relevance and clarity.\n",
      "2. Be specific and provide actionable, real-world examples when possible.\n",
      "3. Answer each aspect of the question: benefits, challenges, and best practices.\n",
      "4. Structure your answer clearly, using bullet points or numbered lists.\n",
      "5. If the context does not provide enough information, state 'I don't know'.\n",
      "\n",
      "### Response Format:\n",
      "--------------------------------------------------------------\n",
      "**Benefits:**\n",
      "1. [Provide a benefit of migration here.]\n",
      "2. [Provide another benefit of migration here.]\n",
      "3. [Provide a third benefit of migration here.]\n",
      "\n",
      "**Challenges:**\n",
      "1. [Provide a challenge of migration here.]\n",
      "2. [Provide another challenge of migration here.]\n",
      "3. [Provide a third challenge of migration here.]\n",
      "\n",
      "**Best Practices for Source Code Rejuvenation:**\n",
      "1. [Provide a practice for source code rejuvenation here.]\n",
      "2. [Provide another practice for source code rejuvenation here.]\n",
      "3. [Provide a third practice for source code rejuvenation here.]\n",
      "\n",
      "--------------------------------------------------------------\n",
      "Ensure that the response is concise, actionable, and well-formatted. \n"
     ]
    }
   ],
   "source": [
    "# Make a full prompt\n",
    "context = '\\n\\n'.join([x.metadata['document'] for x in results])\n",
    "prompt = create_prompt(context=context, previous_version=\"11\", current_version=\"13\")\n",
    "print(prompt)"
   ]
  },
  {
   "cell_type": "code",
   "execution_count": null,
   "metadata": {},
   "outputs": [],
   "source": [
    "# Call local ollama\n",
    "from ollama import chat\n",
    "from ollama import ChatResponse\n",
    "\n",
    "response: ChatResponse = chat(model='llama3.1', messages=[\n",
    "  {\n",
    "    'role': 'user',\n",
    "    'content': prompt,\n",
    "  },\n",
    "])\n",
    "print(response.message.content)"
   ]
  }
 ],
 "metadata": {
  "kernelspec": {
   "display_name": "venv",
   "language": "python",
   "name": "python3"
  },
  "language_info": {
   "codemirror_mode": {
    "name": "ipython",
    "version": 3
   },
   "file_extension": ".py",
   "mimetype": "text/x-python",
   "name": "python",
   "nbconvert_exporter": "python",
   "pygments_lexer": "ipython3",
   "version": "3.10.12"
  }
 },
 "nbformat": 4,
 "nbformat_minor": 2
}
